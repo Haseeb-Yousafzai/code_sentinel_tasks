{
 "cells": [
  {
   "cell_type": "code",
   "execution_count": null,
   "id": "ebdd7d7b",
   "metadata": {},
   "outputs": [],
   "source": [
    "import pandas as pd"
   ]
  },
  {
   "cell_type": "code",
   "execution_count": null,
   "id": "c61c2dd8",
   "metadata": {},
   "outputs": [],
   "source": [
    "df = pd.read_csv(\"iris.csv\")"
   ]
  },
  {
   "cell_type": "code",
   "execution_count": null,
   "id": "64917b2f",
   "metadata": {},
   "outputs": [],
   "source": [
    "print(\"Column Names:\\n\", df.columns.tolist())"
   ]
  },
  {
   "cell_type": "code",
   "execution_count": null,
   "id": "b2d8eea4",
   "metadata": {},
   "outputs": [],
   "source": [
    "print(\"Number of Rows: \", len(df))"
   ]
  },
  {
   "cell_type": "code",
   "execution_count": null,
   "id": "e6451429",
   "metadata": {},
   "outputs": [],
   "source": [
    "print(\"Data Types:\\n\",df.dtypes)"
   ]
  },
  {
   "cell_type": "code",
   "execution_count": null,
   "id": "70d3bffd",
   "metadata": {},
   "outputs": [],
   "source": [
    "print(\"Summary Statistics:\\n\", df.describe(include = 'all'))"
   ]
  },
  {
   "cell_type": "code",
   "execution_count": null,
   "id": "8741dc50",
   "metadata": {},
   "outputs": [],
   "source": [
    "print(\"Missing Valuss:\\n\", df.isnull().sum())"
   ]
  }
 ],
 "metadata": {
  "kernelspec": {
   "display_name": "Python 3",
   "language": "python",
   "name": "python3"
  },
  "language_info": {
   "codemirror_mode": {
    "name": "ipython",
    "version": 3
   },
   "file_extension": ".py",
   "mimetype": "text/x-python",
   "name": "python",
   "nbconvert_exporter": "python",
   "pygments_lexer": "ipython3",
   "version": "3.12.3"
  }
 },
 "nbformat": 4,
 "nbformat_minor": 5
}
